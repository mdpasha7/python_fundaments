{
 "cells": [
  {
   "cell_type": "code",
   "execution_count": null,
   "id": "b2c5c02b-b469-4d68-a4ea-5d34da298127",
   "metadata": {},
   "outputs": [],
   "source": [
    "introduction to list datatype :"
   ]
  },
  {
   "cell_type": "code",
   "execution_count": null,
   "id": "84ef0a18-154b-4bb6-93b5-40a790cb3de4",
   "metadata": {},
   "outputs": [],
   "source": [
    "definition : A list is a collection of items declared in a particulat order.\n",
    "\n",
    "classification : it is classified as an mutable datatype (flexible - which can be edited )\n",
    "\n",
    "how to define the list datatype : [] "
   ]
  },
  {
   "cell_type": "code",
   "execution_count": null,
   "id": "4a494f77-45ad-418e-ab62-61b5ff061806",
   "metadata": {},
   "outputs": [],
   "source": []
  },
  {
   "cell_type": "code",
   "execution_count": 4,
   "id": "57cde247-dbff-42e9-8b53-19eba94a71be",
   "metadata": {},
   "outputs": [
    {
     "name": "stdout",
     "output_type": "stream",
     "text": [
      "['likitha', 'keerthi', 'naveed', 'umar', 'santosh', 'joseph']\n"
     ]
    }
   ],
   "source": [
    "students = ['likitha','keerthi','naveed','umar','santosh','joseph'] # index values 0,1,2,3,4,5\n",
    "print(students)"
   ]
  },
  {
   "cell_type": "code",
   "execution_count": 5,
   "id": "746d03fd-6d4b-4748-8049-ec7f6a95f0cf",
   "metadata": {},
   "outputs": [
    {
     "data": {
      "text/plain": [
       "list"
      ]
     },
     "execution_count": 5,
     "metadata": {},
     "output_type": "execute_result"
    }
   ],
   "source": [
    "type(students)"
   ]
  },
  {
   "cell_type": "code",
   "execution_count": null,
   "id": "6d13f77d-af5a-47e6-830a-5aa17fe24d30",
   "metadata": {},
   "outputs": [],
   "source": [
    "understanding the concept of indexing : 0,1,2,3,4........"
   ]
  },
  {
   "cell_type": "code",
   "execution_count": null,
   "id": "2fe8121b-64ef-4f49-bf81-6c265446f381",
   "metadata": {},
   "outputs": [],
   "source": [
    "# req : i want to access the name of likitha on the output ....?"
   ]
  },
  {
   "cell_type": "code",
   "execution_count": 6,
   "id": "198dd18a-2c8a-411d-8e18-92f63daa5ff0",
   "metadata": {},
   "outputs": [
    {
     "name": "stdout",
     "output_type": "stream",
     "text": [
      "likitha\n"
     ]
    }
   ],
   "source": [
    "print(students[0])"
   ]
  },
  {
   "cell_type": "code",
   "execution_count": 7,
   "id": "90751e7b-c459-4d2a-9e30-3e2f355d42c4",
   "metadata": {},
   "outputs": [
    {
     "name": "stdout",
     "output_type": "stream",
     "text": [
      "Likitha\n"
     ]
    }
   ],
   "source": [
    "print(students[0].title())"
   ]
  },
  {
   "cell_type": "code",
   "execution_count": null,
   "id": "547507fd-d2b8-4e63-a00d-7f7a8b233ecb",
   "metadata": {},
   "outputs": [],
   "source": []
  },
  {
   "cell_type": "code",
   "execution_count": null,
   "id": "c7c5b2ae-3af1-4679-b1ca-feeab7793615",
   "metadata": {},
   "outputs": [],
   "source": [
    "1. how to add new elements to the list ....? =====> completed\n",
    "2. how to modify the elements in the list ....? =====> completed \n",
    "3. how to delete the elements in the list ....? ======> completed"
   ]
  },
  {
   "cell_type": "code",
   "execution_count": null,
   "id": "4bb5dd24-745f-4f44-9a11-c178c4e96e8e",
   "metadata": {},
   "outputs": [],
   "source": [
    "# req : i want to add babji to the list above...."
   ]
  },
  {
   "cell_type": "code",
   "execution_count": 8,
   "id": "f3878c8c-18d3-4208-b24c-72de23deb9f7",
   "metadata": {},
   "outputs": [],
   "source": [
    "students.append('babji')"
   ]
  },
  {
   "cell_type": "code",
   "execution_count": 9,
   "id": "71ceb8fc-ba5d-4eec-a974-ddc3abe9db92",
   "metadata": {},
   "outputs": [
    {
     "name": "stdout",
     "output_type": "stream",
     "text": [
      "['likitha', 'keerthi', 'naveed', 'umar', 'santosh', 'joseph', 'babji']\n"
     ]
    }
   ],
   "source": [
    "print(students)"
   ]
  },
  {
   "cell_type": "code",
   "execution_count": null,
   "id": "1657af5a-3100-4701-ae03-a1fee8150f76",
   "metadata": {},
   "outputs": [],
   "source": [
    "# req : i want to add Manju to the list above...."
   ]
  },
  {
   "cell_type": "code",
   "execution_count": 11,
   "id": "d43b4a1a-6379-4ff6-9898-c40cd292ffb5",
   "metadata": {},
   "outputs": [],
   "source": [
    "students.append('manju')"
   ]
  },
  {
   "cell_type": "code",
   "execution_count": 12,
   "id": "0513cab6-5d23-4add-938f-4949e093007f",
   "metadata": {},
   "outputs": [
    {
     "name": "stdout",
     "output_type": "stream",
     "text": [
      "['likitha', 'keerthi', 'naveed', 'umar', 'santosh', 'joseph', 'babji', 'manju']\n"
     ]
    }
   ],
   "source": [
    "print(students)"
   ]
  },
  {
   "cell_type": "code",
   "execution_count": null,
   "id": "744c329a-a522-464b-92dd-9022812a8797",
   "metadata": {},
   "outputs": [],
   "source": [
    "# req : i want to add mariya to the 2nd index ...?"
   ]
  },
  {
   "cell_type": "code",
   "execution_count": 13,
   "id": "411aeb5b-ad1c-43e0-a10c-d2f39ce0af24",
   "metadata": {},
   "outputs": [],
   "source": [
    "students.insert(2,'mariya')"
   ]
  },
  {
   "cell_type": "code",
   "execution_count": 14,
   "id": "2a7ddb18-8452-45e2-8597-549dd9eb293c",
   "metadata": {},
   "outputs": [
    {
     "name": "stdout",
     "output_type": "stream",
     "text": [
      "['likitha', 'keerthi', 'mariya', 'naveed', 'umar', 'santosh', 'joseph', 'babji', 'manju']\n"
     ]
    }
   ],
   "source": [
    "print(students)"
   ]
  },
  {
   "cell_type": "code",
   "execution_count": 15,
   "id": "fd014772-9eaa-4995-b080-25875cea7574",
   "metadata": {},
   "outputs": [
    {
     "name": "stdout",
     "output_type": "stream",
     "text": [
      "mariya\n"
     ]
    }
   ],
   "source": [
    "print(students[2])"
   ]
  },
  {
   "cell_type": "code",
   "execution_count": null,
   "id": "53d1c075-f273-4ae9-96c5-948ee159901a",
   "metadata": {},
   "outputs": [],
   "source": [
    "interview question : what is the diff btw append and insert method in a list .....?"
   ]
  },
  {
   "cell_type": "code",
   "execution_count": 16,
   "id": "54fb794c-ab4b-4640-ae50-492f344054cf",
   "metadata": {},
   "outputs": [
    {
     "name": "stdout",
     "output_type": "stream",
     "text": [
      "['likitha', 'keerthi', 'mariya', 'naveed', 'umar', 'santosh', 'joseph', 'babji', 'manju']\n"
     ]
    }
   ],
   "source": [
    "print(students)"
   ]
  },
  {
   "cell_type": "code",
   "execution_count": null,
   "id": "c0426918-6962-447d-860c-7234d2aad74d",
   "metadata": {},
   "outputs": [],
   "source": [
    "# req : i want to modify keerthi name to karthik "
   ]
  },
  {
   "cell_type": "code",
   "execution_count": 17,
   "id": "7a8cbe19-61b2-4703-b97e-f80c893de8e0",
   "metadata": {},
   "outputs": [],
   "source": [
    "students[1] = 'karthik'"
   ]
  },
  {
   "cell_type": "code",
   "execution_count": 18,
   "id": "fefae2ba-1840-4f0a-8019-2baee044d0b1",
   "metadata": {},
   "outputs": [
    {
     "name": "stdout",
     "output_type": "stream",
     "text": [
      "['likitha', 'karthik', 'mariya', 'naveed', 'umar', 'santosh', 'joseph', 'babji', 'manju']\n"
     ]
    }
   ],
   "source": [
    "print(students)"
   ]
  },
  {
   "cell_type": "code",
   "execution_count": null,
   "id": "fcb1d90f-6802-4d51-a75b-cc663549ce3a",
   "metadata": {},
   "outputs": [],
   "source": [
    "# req : i want to delete naveed in the above list .....? "
   ]
  },
  {
   "cell_type": "code",
   "execution_count": 19,
   "id": "ab27a495-be03-467f-ae12-305094bfebc2",
   "metadata": {},
   "outputs": [],
   "source": [
    "del students[3]"
   ]
  },
  {
   "cell_type": "code",
   "execution_count": null,
   "id": "1328b863-74cd-4092-a100-0fd7a1f11a27",
   "metadata": {},
   "outputs": [],
   "source": [
    "print(students"
   ]
  }
 ],
 "metadata": {
  "kernelspec": {
   "display_name": "Python 3 (ipykernel)",
   "language": "python",
   "name": "python3"
  },
  "language_info": {
   "codemirror_mode": {
    "name": "ipython",
    "version": 3
   },
   "file_extension": ".py",
   "mimetype": "text/x-python",
   "name": "python",
   "nbconvert_exporter": "python",
   "pygments_lexer": "ipython3",
   "version": "3.11.7"
  }
 },
 "nbformat": 4,
 "nbformat_minor": 5
}
