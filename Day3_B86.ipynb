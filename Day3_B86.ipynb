{
 "cells": [
  {
   "cell_type": "code",
   "execution_count": null,
   "id": "a1d80ec9-28fc-4c96-92e1-5e7f81018717",
   "metadata": {},
   "outputs": [],
   "source": [
    "continuation with string datatype : "
   ]
  },
  {
   "cell_type": "code",
   "execution_count": null,
   "id": "6037665a-5940-48a1-b546-cde77dad2308",
   "metadata": {},
   "outputs": [],
   "source": []
  },
  {
   "cell_type": "code",
   "execution_count": null,
   "id": "6281d43b-7caf-4af6-851a-b376bac1728b",
   "metadata": {},
   "outputs": [],
   "source": [
    "understanding the concept of f strings :"
   ]
  },
  {
   "cell_type": "code",
   "execution_count": null,
   "id": "cda4dc02-14ad-4ecc-97e1-040a0d58d22e",
   "metadata": {},
   "outputs": [],
   "source": [
    "# general syntax for f strings :"
   ]
  },
  {
   "cell_type": "code",
   "execution_count": null,
   "id": "fc3c160c-9727-4997-b3a9-061a6ac2b460",
   "metadata": {},
   "outputs": [],
   "source": [
    "f\"custom message {placeholder_1} {placeholder_2}.......{placeholder_n}\""
   ]
  },
  {
   "cell_type": "code",
   "execution_count": null,
   "id": "c08b4ea1-1520-41ac-b82c-592de84eac22",
   "metadata": {},
   "outputs": [],
   "source": []
  },
  {
   "cell_type": "code",
   "execution_count": 4,
   "id": "7feb4aa3-2fb6-46f5-8d98-af02288c5af4",
   "metadata": {},
   "outputs": [
    {
     "name": "stdout",
     "output_type": "stream",
     "text": [
      "amir khan\n"
     ]
    }
   ],
   "source": [
    "first_name = \"amir\"\n",
    "last_name = \"khan\"\n",
    "print(f\"{first_name} {last_name}\")"
   ]
  },
  {
   "cell_type": "code",
   "execution_count": null,
   "id": "55ef637d-7733-4ce5-b5f3-914d777fdfdb",
   "metadata": {},
   "outputs": [],
   "source": [
    "# reg : i want to get the full name .....?"
   ]
  },
  {
   "cell_type": "code",
   "execution_count": 5,
   "id": "dca3e4c3-6914-4555-891f-a2030e9c6e3e",
   "metadata": {},
   "outputs": [
    {
     "name": "stdout",
     "output_type": "stream",
     "text": [
      "amir khan\n"
     ]
    }
   ],
   "source": [
    "full_name = f\"{first_name} {last_name}\"\n",
    "print(full_name)"
   ]
  },
  {
   "cell_type": "code",
   "execution_count": 6,
   "id": "3b74b455-6cd4-4b70-9260-bd962bd85d59",
   "metadata": {},
   "outputs": [
    {
     "name": "stdout",
     "output_type": "stream",
     "text": [
      "Amir Khan\n"
     ]
    }
   ],
   "source": [
    "print(full_name.title())"
   ]
  },
  {
   "cell_type": "code",
   "execution_count": 7,
   "id": "b0af8cc6-debf-4868-a715-48b9cf1cfdd1",
   "metadata": {},
   "outputs": [
    {
     "name": "stdout",
     "output_type": "stream",
     "text": [
      "keep up the good work Amir Khan\n"
     ]
    }
   ],
   "source": [
    "message = f\"keep up the good work {full_name.title()}\"\n",
    "\n",
    "print(message)"
   ]
  },
  {
   "cell_type": "code",
   "execution_count": null,
   "id": "423312e9-bd1d-4e23-a787-9e0d9affd888",
   "metadata": {},
   "outputs": [],
   "source": []
  },
  {
   "cell_type": "code",
   "execution_count": null,
   "id": "28649a2f-9b75-4037-9327-6270d3684c38",
   "metadata": {},
   "outputs": [],
   "source": [
    "Adding whitespaces to strings :"
   ]
  },
  {
   "cell_type": "code",
   "execution_count": 8,
   "id": "6c529b7e-fd19-4530-a4d9-12cc297869fb",
   "metadata": {},
   "outputs": [
    {
     "name": "stdout",
     "output_type": "stream",
     "text": [
      "favourite_programming_language:pythonjavac++swiftcobalpascal\n"
     ]
    }
   ],
   "source": [
    "print(\"favourite_programming_language:pythonjavac++swiftcobalpascal\")"
   ]
  },
  {
   "cell_type": "code",
   "execution_count": 9,
   "id": "f155844a-4706-4632-9950-a9933d462740",
   "metadata": {},
   "outputs": [
    {
     "name": "stdout",
     "output_type": "stream",
     "text": [
      "favourite_programming_language:\n",
      "pyhon\n",
      "java\n",
      "c++\n",
      "swift\n",
      "cobal\n",
      "pascal\n"
     ]
    }
   ],
   "source": [
    "print(\"favourite_programming_language:\\npyhon\\njava\\nc++\\nswift\\ncobal\\npascal\") # \\n escaping sequence character which will shift into the new line"
   ]
  },
  {
   "cell_type": "code",
   "execution_count": 10,
   "id": "93c2eb67-cab7-44f6-a89f-6c326da75158",
   "metadata": {},
   "outputs": [
    {
     "name": "stdout",
     "output_type": "stream",
     "text": [
      "favourite_programming_language:\n",
      "\tpython\n",
      "\tjava\n",
      "\tc++\n",
      "\tcobal\n",
      "\tpascal\n"
     ]
    }
   ],
   "source": [
    "print(\"favourite_programming_language:\\n\\tpython\\n\\tjava\\n\\tc++\\n\\tcobal\\n\\tpascal\") # here \\t will give tab space which is 4 character space "
   ]
  },
  {
   "cell_type": "code",
   "execution_count": null,
   "id": "45f3fb83-f25f-4090-8319-7ffd53acbb2b",
   "metadata": {},
   "outputs": [],
   "source": []
  },
  {
   "cell_type": "code",
   "execution_count": 11,
   "id": "7d64a913-aac4-4b1b-8d03-623952f1afff",
   "metadata": {},
   "outputs": [
    {
     "name": "stdout",
     "output_type": "stream",
     "text": [
      "The Zen of Python, by Tim Peters\n",
      "\n",
      "Beautiful is better than ugly.\n",
      "Explicit is better than implicit.\n",
      "Simple is better than complex.\n",
      "Complex is better than complicated.\n",
      "Flat is better than nested.\n",
      "Sparse is better than dense.\n",
      "Readability counts.\n",
      "Special cases aren't special enough to break the rules.\n",
      "Although practicality beats purity.\n",
      "Errors should never pass silently.\n",
      "Unless explicitly silenced.\n",
      "In the face of ambiguity, refuse the temptation to guess.\n",
      "There should be one-- and preferably only one --obvious way to do it.\n",
      "Although that way may not be obvious at first unless you're Dutch.\n",
      "Now is better than never.\n",
      "Although never is often better than *right* now.\n",
      "If the implementation is hard to explain, it's a bad idea.\n",
      "If the implementation is easy to explain, it may be a good idea.\n",
      "Namespaces are one honking great idea -- let's do more of those!\n"
     ]
    }
   ],
   "source": [
    "import this"
   ]
  },
  {
   "cell_type": "code",
   "execution_count": null,
   "id": "24689e53-e958-45ff-b188-7fcdb21d0648",
   "metadata": {},
   "outputs": [],
   "source": []
  },
  {
   "cell_type": "code",
   "execution_count": null,
   "id": "9bdd7b2b-3154-4823-948b-7eb191ea11d4",
   "metadata": {},
   "outputs": [],
   "source": [
    "Removing whitespaces from the string :"
   ]
  },
  {
   "cell_type": "code",
   "execution_count": 13,
   "id": "b4020a7d-be3b-492c-8eec-48c0c59fe5e2",
   "metadata": {},
   "outputs": [
    {
     "name": "stdout",
     "output_type": "stream",
     "text": [
      "    python\n"
     ]
    }
   ],
   "source": [
    "name = \"    python\"\n",
    "print(name)"
   ]
  },
  {
   "cell_type": "code",
   "execution_count": 15,
   "id": "9656b698-8e17-4326-93e6-a6c4c0493148",
   "metadata": {},
   "outputs": [
    {
     "name": "stdout",
     "output_type": "stream",
     "text": [
      "python    \n"
     ]
    }
   ],
   "source": [
    "name2 = \"python    \"\n",
    "print(name2)"
   ]
  },
  {
   "cell_type": "code",
   "execution_count": 17,
   "id": "8615d8a8-8e0b-44fc-b1d9-350133c964f6",
   "metadata": {},
   "outputs": [
    {
     "data": {
      "text/plain": [
       "'python'"
      ]
     },
     "execution_count": 17,
     "metadata": {},
     "output_type": "execute_result"
    }
   ],
   "source": [
    "name.lstrip()"
   ]
  },
  {
   "cell_type": "code",
   "execution_count": null,
   "id": "688fac8e-bc54-4f1a-80f1-368d5bfaba17",
   "metadata": {},
   "outputs": [],
   "source": [
    "name2.rstrip()"
   ]
  }
 ],
 "metadata": {
  "kernelspec": {
   "display_name": "Python 3 (ipykernel)",
   "language": "python",
   "name": "python3"
  },
  "language_info": {
   "codemirror_mode": {
    "name": "ipython",
    "version": 3
   },
   "file_extension": ".py",
   "mimetype": "text/x-python",
   "name": "python",
   "nbconvert_exporter": "python",
   "pygments_lexer": "ipython3",
   "version": "3.11.7"
  }
 },
 "nbformat": 4,
 "nbformat_minor": 5
}
