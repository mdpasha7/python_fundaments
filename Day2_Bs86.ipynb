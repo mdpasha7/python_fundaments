{
 "cells": [
  {
   "cell_type": "code",
   "execution_count": null,
   "id": "d9e52075-1c9b-4298-bcd1-983217320651",
   "metadata": {},
   "outputs": [],
   "source": [
    "understanding the varibles in python :"
   ]
  },
  {
   "cell_type": "code",
   "execution_count": 1,
   "id": "ff3bd4ee-d428-4b8d-b5ad-f9f6f0ca6156",
   "metadata": {},
   "outputs": [],
   "source": [
    "x = 2\n",
    "y = 3"
   ]
  },
  {
   "cell_type": "code",
   "execution_count": 2,
   "id": "382da481-4c6d-4c13-b63f-837e567bdbee",
   "metadata": {},
   "outputs": [
    {
     "name": "stdout",
     "output_type": "stream",
     "text": [
      "5\n"
     ]
    }
   ],
   "source": [
    "z = x + y \n",
    "print(z)"
   ]
  },
  {
   "cell_type": "code",
   "execution_count": null,
   "id": "f2ed9842-75d5-4489-b403-3aecdef6ebcf",
   "metadata": {},
   "outputs": [],
   "source": [
    "Rule for declaring a variable in python : "
   ]
  },
  {
   "cell_type": "code",
   "execution_count": null,
   "id": "ac4357d2-9c91-43e3-9e85-c60d3571e951",
   "metadata": {},
   "outputs": [],
   "source": [
    "Rule No - 1 : No Name spaces while declaring the variable name "
   ]
  },
  {
   "cell_type": "code",
   "execution_count": 4,
   "id": "4bfca02e-73c4-40cd-950e-30fe79605f6b",
   "metadata": {},
   "outputs": [
    {
     "ename": "SyntaxError",
     "evalue": "invalid syntax (2499538331.py, line 1)",
     "output_type": "error",
     "traceback": [
      "\u001b[1;36m  Cell \u001b[1;32mIn[4], line 1\u001b[1;36m\u001b[0m\n\u001b[1;33m    first name = 'faiyaz'\u001b[0m\n\u001b[1;37m          ^\u001b[0m\n\u001b[1;31mSyntaxError\u001b[0m\u001b[1;31m:\u001b[0m invalid syntax\n"
     ]
    }
   ],
   "source": [
    "first name = 'faiyaz'\n",
    "print(first name)"
   ]
  },
  {
   "cell_type": "code",
   "execution_count": null,
   "id": "344a7c0c-3021-411d-b1dc-a353cab6a15d",
   "metadata": {},
   "outputs": [],
   "source": []
  },
  {
   "cell_type": "code",
   "execution_count": 5,
   "id": "aee82a42-406f-4e9e-a485-54a493de76b9",
   "metadata": {},
   "outputs": [
    {
     "name": "stdout",
     "output_type": "stream",
     "text": [
      "faiyaz\n"
     ]
    }
   ],
   "source": [
    "firstname = 'faiyaz'\n",
    "print(firstname)"
   ]
  },
  {
   "cell_type": "code",
   "execution_count": null,
   "id": "31069c2c-c8f8-4634-8e9d-eac20cd5af11",
   "metadata": {},
   "outputs": [],
   "source": []
  },
  {
   "cell_type": "code",
   "execution_count": null,
   "id": "59ecab49-6f72-46f3-a641-0494c060ae4d",
   "metadata": {},
   "outputs": [],
   "source": [
    "Rule No - 2: A variable name should not start with a number **(very important)"
   ]
  },
  {
   "cell_type": "code",
   "execution_count": 6,
   "id": "0fea2973-44c0-48d1-ac24-77cfdb7373f4",
   "metadata": {},
   "outputs": [
    {
     "ename": "SyntaxError",
     "evalue": "invalid decimal literal (1550157486.py, line 1)",
     "output_type": "error",
     "traceback": [
      "\u001b[1;36m  Cell \u001b[1;32mIn[6], line 1\u001b[1;36m\u001b[0m\n\u001b[1;33m    1name = 'likitha'\u001b[0m\n\u001b[1;37m    ^\u001b[0m\n\u001b[1;31mSyntaxError\u001b[0m\u001b[1;31m:\u001b[0m invalid decimal literal\n"
     ]
    }
   ],
   "source": [
    "1name = 'likitha'\n",
    "print(1name)"
   ]
  },
  {
   "cell_type": "code",
   "execution_count": null,
   "id": "9d89d2b9-dd56-4531-8b17-de705ef2d008",
   "metadata": {},
   "outputs": [],
   "source": []
  },
  {
   "cell_type": "code",
   "execution_count": 7,
   "id": "14a2578a-db7d-4b55-8ed1-ca8d6c7f74a5",
   "metadata": {},
   "outputs": [
    {
     "name": "stdout",
     "output_type": "stream",
     "text": [
      "likitha\n"
     ]
    }
   ],
   "source": [
    "name1 = 'likitha'\n",
    "print(name1)"
   ]
  },
  {
   "cell_type": "code",
   "execution_count": null,
   "id": "a1bb2f31-2203-4416-abd1-f1c62df2ad9b",
   "metadata": {},
   "outputs": [],
   "source": []
  },
  {
   "cell_type": "code",
   "execution_count": null,
   "id": "ce54d57f-2a76-4591-994d-049ca733a5f6",
   "metadata": {},
   "outputs": [],
   "source": [
    "Rule No - 3: A variable name should not contain any special characters "
   ]
  },
  {
   "cell_type": "code",
   "execution_count": null,
   "id": "1ef4694e-5b81-41be-baf9-65758359a2dd",
   "metadata": {},
   "outputs": [],
   "source": [
    "===> @ # $ ^ & "
   ]
  },
  {
   "cell_type": "code",
   "execution_count": 8,
   "id": "19307ea2-1e6b-4834-aff9-4b5bd6eab584",
   "metadata": {},
   "outputs": [
    {
     "ename": "SyntaxError",
     "evalue": "invalid syntax (3265397995.py, line 1)",
     "output_type": "error",
     "traceback": [
      "\u001b[1;36m  Cell \u001b[1;32mIn[8], line 1\u001b[1;36m\u001b[0m\n\u001b[1;33m    name@ = \"john\"\u001b[0m\n\u001b[1;37m          ^\u001b[0m\n\u001b[1;31mSyntaxError\u001b[0m\u001b[1;31m:\u001b[0m invalid syntax\n"
     ]
    }
   ],
   "source": [
    "name@ = \"john\"\n",
    "print(name@)"
   ]
  },
  {
   "cell_type": "code",
   "execution_count": null,
   "id": "925cb131-a977-45da-b488-915b2aba8cf6",
   "metadata": {},
   "outputs": [],
   "source": []
  },
  {
   "cell_type": "code",
   "execution_count": null,
   "id": "2395414f-a048-450c-b859-8ff6715f990f",
   "metadata": {},
   "outputs": [],
   "source": [
    "Introduction to data types in python : "
   ]
  },
  {
   "cell_type": "code",
   "execution_count": null,
   "id": "f300f951-5d15-40d7-83f4-41f42e405312",
   "metadata": {},
   "outputs": [],
   "source": [
    "1. String ======> str \n",
    "2. Numbers (integers ====> int/floats (decimals) ====> 0.1,0.2 ===> float) \n",
    "3. Lists ===> list \n",
    "4. tuples ===> tuple \n",
    "5. dictionaries =====> dict "
   ]
  },
  {
   "cell_type": "code",
   "execution_count": null,
   "id": "5c3ad312-01d6-41d6-9064-ca4c4284936b",
   "metadata": {},
   "outputs": [],
   "source": []
  },
  {
   "cell_type": "code",
   "execution_count": null,
   "id": "29712427-8ed2-4419-b703-917bd37b8be6",
   "metadata": {},
   "outputs": [],
   "source": [
    "classification of data types : \n",
    "\n",
    "     Broadly datatypes are classified in to 2 categories : \n",
    "            1. mutable datatypes ====> which can able to edit / alter \n",
    "            2. immutable datatypes ===> which we will not be able to edit / alter"
   ]
  },
  {
   "cell_type": "code",
   "execution_count": null,
   "id": "3153f6ff-5aee-4dda-ab47-7c859930b1e0",
   "metadata": {},
   "outputs": [],
   "source": []
  },
  {
   "cell_type": "code",
   "execution_count": null,
   "id": "e35dceac-ea99-485a-9a56-525f514d5a4e",
   "metadata": {},
   "outputs": [],
   "source": [
    "Introduction to string datatype : "
   ]
  },
  {
   "cell_type": "code",
   "execution_count": null,
   "id": "bf156fbf-d3f0-4884-93ae-667ea4f1b53e",
   "metadata": {},
   "outputs": [],
   "source": [
    "defination : A string is a series of characters declared in quotes.\n",
    "\n",
    "classification : it is classified as an immutable datatype (fixed datatype)\n",
    "\n",
    "how to define the string datatype =======>\n",
    "  1. single quote \n",
    "  2. double quote "
   ]
  },
  {
   "cell_type": "code",
   "execution_count": 9,
   "id": "654012e0-f8fe-4c1c-a02b-02b3f3ba00d4",
   "metadata": {},
   "outputs": [
    {
     "name": "stdout",
     "output_type": "stream",
     "text": [
      "prasanna\n"
     ]
    }
   ],
   "source": [
    "name = 'prasanna' \n",
    "print(name)"
   ]
  },
  {
   "cell_type": "code",
   "execution_count": 10,
   "id": "bce9d65b-b793-4db4-8b6e-9a81511e0675",
   "metadata": {},
   "outputs": [
    {
     "name": "stdout",
     "output_type": "stream",
     "text": [
      "joseph\n"
     ]
    }
   ],
   "source": [
    "name2 = \"joseph\"\n",
    "print(name2)"
   ]
  },
  {
   "cell_type": "code",
   "execution_count": null,
   "id": "4ff19d2c-e9b3-47ea-b3fb-bb1e6214de05",
   "metadata": {},
   "outputs": [],
   "source": []
  },
  {
   "cell_type": "code",
   "execution_count": null,
   "id": "db51ad39-0338-4a68-9ab6-9bb3cfc9f642",
   "metadata": {},
   "outputs": [],
   "source": [
    "Introduction to string methods :"
   ]
  },
  {
   "cell_type": "code",
   "execution_count": 11,
   "id": "92ed008b-23c6-495b-a5f2-d9a0af412497",
   "metadata": {},
   "outputs": [
    {
     "data": {
      "text/plain": [
       "str"
      ]
     },
     "execution_count": 11,
     "metadata": {},
     "output_type": "execute_result"
    }
   ],
   "source": [
    "type(name)"
   ]
  },
  {
   "cell_type": "code",
   "execution_count": 12,
   "id": "01475302-d1a1-40d5-a5c6-a5460224dc3b",
   "metadata": {},
   "outputs": [
    {
     "data": {
      "text/plain": [
       "str"
      ]
     },
     "execution_count": 12,
     "metadata": {},
     "output_type": "execute_result"
    }
   ],
   "source": [
    "type(name2)"
   ]
  },
  {
   "cell_type": "code",
   "execution_count": null,
   "id": "bb8479bb-fa70-492c-b504-8279ddfa914f",
   "metadata": {},
   "outputs": [],
   "source": []
  },
  {
   "cell_type": "code",
   "execution_count": 13,
   "id": "b4f4ea31-aa7c-4760-bc8e-12b08c90d856",
   "metadata": {},
   "outputs": [
    {
     "name": "stdout",
     "output_type": "stream",
     "text": [
      "babji aluri\n"
     ]
    }
   ],
   "source": [
    "fullname = 'babji aluri'\n",
    "print(fullname)"
   ]
  },
  {
   "cell_type": "code",
   "execution_count": 14,
   "id": "b8dfca02-6fbd-473f-8e39-9b5cb8c98e28",
   "metadata": {},
   "outputs": [
    {
     "name": "stdout",
     "output_type": "stream",
     "text": [
      "Babji Aluri\n"
     ]
    }
   ],
   "source": [
    "print(fullname.title())"
   ]
  },
  {
   "cell_type": "code",
   "execution_count": null,
   "id": "a0b05d00-fe48-4f53-bc99-c275318675aa",
   "metadata": {},
   "outputs": [],
   "source": [
    "# i want all the letters in capitals "
   ]
  },
  {
   "cell_type": "code",
   "execution_count": 15,
   "id": "32258478-f6c0-4ffd-a51b-3acff7ed9727",
   "metadata": {},
   "outputs": [
    {
     "name": "stdout",
     "output_type": "stream",
     "text": [
      "BABJI ALURI\n"
     ]
    }
   ],
   "source": [
    "print(fullname.upper())"
   ]
  },
  {
   "cell_type": "code",
   "execution_count": null,
   "id": "98987d25-f6dc-45c6-81f0-3b0a4821cc3b",
   "metadata": {},
   "outputs": [],
   "source": [
    "# i want all the letters in small case letters "
   ]
  },
  {
   "cell_type": "code",
   "execution_count": 16,
   "id": "71fbe653-f71b-4c29-84aa-da4e292c06d1",
   "metadata": {},
   "outputs": [
    {
     "name": "stdout",
     "output_type": "stream",
     "text": [
      "babji aluri\n"
     ]
    }
   ],
   "source": [
    "print(fullname.lower())"
   ]
  },
  {
   "cell_type": "code",
   "execution_count": null,
   "id": "7980ed1a-6e1d-4f70-a3ae-b1311ccefbcd",
   "metadata": {},
   "outputs": [],
   "source": []
  }
 ],
 "metadata": {
  "kernelspec": {
   "display_name": "Python 3 (ipykernel)",
   "language": "python",
   "name": "python3"
  },
  "language_info": {
   "codemirror_mode": {
    "name": "ipython",
    "version": 3
   },
   "file_extension": ".py",
   "mimetype": "text/x-python",
   "name": "python",
   "nbconvert_exporter": "python",
   "pygments_lexer": "ipython3",
   "version": "3.11.7"
  }
 },
 "nbformat": 4,
 "nbformat_minor": 5
}
